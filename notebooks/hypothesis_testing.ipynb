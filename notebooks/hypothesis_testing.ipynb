{
 "cells": [
  {
   "cell_type": "markdown",
   "metadata": {},
   "source": [
    "#  A/B Hypothesis Testing"
   ]
  },
  {
   "cell_type": "markdown",
   "metadata": {},
   "source": [
    "### Import Libraries\n",
    "We will need libraries such as pandas, scipy, and statsmodels to conduct statistical tests."
   ]
  },
  {
   "cell_type": "code",
   "execution_count": 11,
   "metadata": {},
   "outputs": [],
   "source": [
    "import sys\n",
    "sys.path.append('../src')\n",
    "from data_loader import DataLoader\n",
    "from data_quality_check import missing_values_summary\n",
    "import pandas as pd\n",
    "import pandas as pd\n",
    "import matplotlib.pyplot as plt\n",
    "import seaborn as sns\n",
    "import missingno as msno\n",
    "\n",
    "from scipy import stats\n",
    "import statsmodels.api as sm"
   ]
  },
  {
   "cell_type": "markdown",
   "metadata": {},
   "source": [
    "### Load the DataFrame (Cleaned Data)"
   ]
  },
  {
   "cell_type": "code",
   "execution_count": 2,
   "metadata": {},
   "outputs": [],
   "source": [
    "df=pd.read_csv('../data/cleaned_data.csv')"
   ]
  },
  {
   "cell_type": "code",
   "execution_count": 8,
   "metadata": {},
   "outputs": [
    {
     "data": {
      "text/html": [
       "<div>\n",
       "<style scoped>\n",
       "    .dataframe tbody tr th:only-of-type {\n",
       "        vertical-align: middle;\n",
       "    }\n",
       "\n",
       "    .dataframe tbody tr th {\n",
       "        vertical-align: top;\n",
       "    }\n",
       "\n",
       "    .dataframe thead th {\n",
       "        text-align: right;\n",
       "    }\n",
       "</style>\n",
       "<table border=\"1\" class=\"dataframe\">\n",
       "  <thead>\n",
       "    <tr style=\"text-align: right;\">\n",
       "      <th></th>\n",
       "      <th>Missing Values</th>\n",
       "      <th>Percentage</th>\n",
       "    </tr>\n",
       "  </thead>\n",
       "  <tbody>\n",
       "    <tr>\n",
       "      <th>UnderwrittenCoverID</th>\n",
       "      <td>0</td>\n",
       "      <td>0.0</td>\n",
       "    </tr>\n",
       "    <tr>\n",
       "      <th>PolicyID</th>\n",
       "      <td>0</td>\n",
       "      <td>0.0</td>\n",
       "    </tr>\n",
       "    <tr>\n",
       "      <th>TransactionMonth</th>\n",
       "      <td>0</td>\n",
       "      <td>0.0</td>\n",
       "    </tr>\n",
       "    <tr>\n",
       "      <th>IsVATRegistered</th>\n",
       "      <td>0</td>\n",
       "      <td>0.0</td>\n",
       "    </tr>\n",
       "    <tr>\n",
       "      <th>Citizenship</th>\n",
       "      <td>0</td>\n",
       "      <td>0.0</td>\n",
       "    </tr>\n",
       "    <tr>\n",
       "      <th>LegalType</th>\n",
       "      <td>0</td>\n",
       "      <td>0.0</td>\n",
       "    </tr>\n",
       "    <tr>\n",
       "      <th>Title</th>\n",
       "      <td>0</td>\n",
       "      <td>0.0</td>\n",
       "    </tr>\n",
       "    <tr>\n",
       "      <th>Language</th>\n",
       "      <td>0</td>\n",
       "      <td>0.0</td>\n",
       "    </tr>\n",
       "    <tr>\n",
       "      <th>Bank</th>\n",
       "      <td>0</td>\n",
       "      <td>0.0</td>\n",
       "    </tr>\n",
       "    <tr>\n",
       "      <th>AccountType</th>\n",
       "      <td>0</td>\n",
       "      <td>0.0</td>\n",
       "    </tr>\n",
       "    <tr>\n",
       "      <th>MaritalStatus</th>\n",
       "      <td>0</td>\n",
       "      <td>0.0</td>\n",
       "    </tr>\n",
       "    <tr>\n",
       "      <th>Gender</th>\n",
       "      <td>0</td>\n",
       "      <td>0.0</td>\n",
       "    </tr>\n",
       "    <tr>\n",
       "      <th>Country</th>\n",
       "      <td>0</td>\n",
       "      <td>0.0</td>\n",
       "    </tr>\n",
       "    <tr>\n",
       "      <th>Province</th>\n",
       "      <td>0</td>\n",
       "      <td>0.0</td>\n",
       "    </tr>\n",
       "    <tr>\n",
       "      <th>PostalCode</th>\n",
       "      <td>0</td>\n",
       "      <td>0.0</td>\n",
       "    </tr>\n",
       "    <tr>\n",
       "      <th>MainCrestaZone</th>\n",
       "      <td>0</td>\n",
       "      <td>0.0</td>\n",
       "    </tr>\n",
       "    <tr>\n",
       "      <th>SubCrestaZone</th>\n",
       "      <td>0</td>\n",
       "      <td>0.0</td>\n",
       "    </tr>\n",
       "    <tr>\n",
       "      <th>ItemType</th>\n",
       "      <td>0</td>\n",
       "      <td>0.0</td>\n",
       "    </tr>\n",
       "    <tr>\n",
       "      <th>mmcode</th>\n",
       "      <td>0</td>\n",
       "      <td>0.0</td>\n",
       "    </tr>\n",
       "    <tr>\n",
       "      <th>VehicleType</th>\n",
       "      <td>0</td>\n",
       "      <td>0.0</td>\n",
       "    </tr>\n",
       "    <tr>\n",
       "      <th>RegistrationYear</th>\n",
       "      <td>0</td>\n",
       "      <td>0.0</td>\n",
       "    </tr>\n",
       "    <tr>\n",
       "      <th>make</th>\n",
       "      <td>0</td>\n",
       "      <td>0.0</td>\n",
       "    </tr>\n",
       "    <tr>\n",
       "      <th>Model</th>\n",
       "      <td>0</td>\n",
       "      <td>0.0</td>\n",
       "    </tr>\n",
       "    <tr>\n",
       "      <th>Cylinders</th>\n",
       "      <td>0</td>\n",
       "      <td>0.0</td>\n",
       "    </tr>\n",
       "    <tr>\n",
       "      <th>cubiccapacity</th>\n",
       "      <td>0</td>\n",
       "      <td>0.0</td>\n",
       "    </tr>\n",
       "    <tr>\n",
       "      <th>kilowatts</th>\n",
       "      <td>0</td>\n",
       "      <td>0.0</td>\n",
       "    </tr>\n",
       "    <tr>\n",
       "      <th>bodytype</th>\n",
       "      <td>0</td>\n",
       "      <td>0.0</td>\n",
       "    </tr>\n",
       "    <tr>\n",
       "      <th>NumberOfDoors</th>\n",
       "      <td>0</td>\n",
       "      <td>0.0</td>\n",
       "    </tr>\n",
       "    <tr>\n",
       "      <th>VehicleIntroDate</th>\n",
       "      <td>0</td>\n",
       "      <td>0.0</td>\n",
       "    </tr>\n",
       "    <tr>\n",
       "      <th>AlarmImmobiliser</th>\n",
       "      <td>0</td>\n",
       "      <td>0.0</td>\n",
       "    </tr>\n",
       "    <tr>\n",
       "      <th>TrackingDevice</th>\n",
       "      <td>0</td>\n",
       "      <td>0.0</td>\n",
       "    </tr>\n",
       "    <tr>\n",
       "      <th>CapitalOutstanding</th>\n",
       "      <td>0</td>\n",
       "      <td>0.0</td>\n",
       "    </tr>\n",
       "    <tr>\n",
       "      <th>NewVehicle</th>\n",
       "      <td>0</td>\n",
       "      <td>0.0</td>\n",
       "    </tr>\n",
       "    <tr>\n",
       "      <th>WrittenOff</th>\n",
       "      <td>0</td>\n",
       "      <td>0.0</td>\n",
       "    </tr>\n",
       "    <tr>\n",
       "      <th>Rebuilt</th>\n",
       "      <td>0</td>\n",
       "      <td>0.0</td>\n",
       "    </tr>\n",
       "    <tr>\n",
       "      <th>Converted</th>\n",
       "      <td>0</td>\n",
       "      <td>0.0</td>\n",
       "    </tr>\n",
       "    <tr>\n",
       "      <th>CrossBorder</th>\n",
       "      <td>0</td>\n",
       "      <td>0.0</td>\n",
       "    </tr>\n",
       "    <tr>\n",
       "      <th>SumInsured</th>\n",
       "      <td>0</td>\n",
       "      <td>0.0</td>\n",
       "    </tr>\n",
       "    <tr>\n",
       "      <th>TermFrequency</th>\n",
       "      <td>0</td>\n",
       "      <td>0.0</td>\n",
       "    </tr>\n",
       "    <tr>\n",
       "      <th>CalculatedPremiumPerTerm</th>\n",
       "      <td>0</td>\n",
       "      <td>0.0</td>\n",
       "    </tr>\n",
       "    <tr>\n",
       "      <th>ExcessSelected</th>\n",
       "      <td>0</td>\n",
       "      <td>0.0</td>\n",
       "    </tr>\n",
       "    <tr>\n",
       "      <th>CoverCategory</th>\n",
       "      <td>0</td>\n",
       "      <td>0.0</td>\n",
       "    </tr>\n",
       "    <tr>\n",
       "      <th>CoverType</th>\n",
       "      <td>0</td>\n",
       "      <td>0.0</td>\n",
       "    </tr>\n",
       "    <tr>\n",
       "      <th>CoverGroup</th>\n",
       "      <td>0</td>\n",
       "      <td>0.0</td>\n",
       "    </tr>\n",
       "    <tr>\n",
       "      <th>Section</th>\n",
       "      <td>0</td>\n",
       "      <td>0.0</td>\n",
       "    </tr>\n",
       "    <tr>\n",
       "      <th>Product</th>\n",
       "      <td>0</td>\n",
       "      <td>0.0</td>\n",
       "    </tr>\n",
       "    <tr>\n",
       "      <th>StatutoryClass</th>\n",
       "      <td>0</td>\n",
       "      <td>0.0</td>\n",
       "    </tr>\n",
       "    <tr>\n",
       "      <th>StatutoryRiskType</th>\n",
       "      <td>0</td>\n",
       "      <td>0.0</td>\n",
       "    </tr>\n",
       "    <tr>\n",
       "      <th>TotalPremium</th>\n",
       "      <td>0</td>\n",
       "      <td>0.0</td>\n",
       "    </tr>\n",
       "    <tr>\n",
       "      <th>TotalClaims</th>\n",
       "      <td>0</td>\n",
       "      <td>0.0</td>\n",
       "    </tr>\n",
       "  </tbody>\n",
       "</table>\n",
       "</div>"
      ],
      "text/plain": [
       "                          Missing Values  Percentage\n",
       "UnderwrittenCoverID                    0         0.0\n",
       "PolicyID                               0         0.0\n",
       "TransactionMonth                       0         0.0\n",
       "IsVATRegistered                        0         0.0\n",
       "Citizenship                            0         0.0\n",
       "LegalType                              0         0.0\n",
       "Title                                  0         0.0\n",
       "Language                               0         0.0\n",
       "Bank                                   0         0.0\n",
       "AccountType                            0         0.0\n",
       "MaritalStatus                          0         0.0\n",
       "Gender                                 0         0.0\n",
       "Country                                0         0.0\n",
       "Province                               0         0.0\n",
       "PostalCode                             0         0.0\n",
       "MainCrestaZone                         0         0.0\n",
       "SubCrestaZone                          0         0.0\n",
       "ItemType                               0         0.0\n",
       "mmcode                                 0         0.0\n",
       "VehicleType                            0         0.0\n",
       "RegistrationYear                       0         0.0\n",
       "make                                   0         0.0\n",
       "Model                                  0         0.0\n",
       "Cylinders                              0         0.0\n",
       "cubiccapacity                          0         0.0\n",
       "kilowatts                              0         0.0\n",
       "bodytype                               0         0.0\n",
       "NumberOfDoors                          0         0.0\n",
       "VehicleIntroDate                       0         0.0\n",
       "AlarmImmobiliser                       0         0.0\n",
       "TrackingDevice                         0         0.0\n",
       "CapitalOutstanding                     0         0.0\n",
       "NewVehicle                             0         0.0\n",
       "WrittenOff                             0         0.0\n",
       "Rebuilt                                0         0.0\n",
       "Converted                              0         0.0\n",
       "CrossBorder                            0         0.0\n",
       "SumInsured                             0         0.0\n",
       "TermFrequency                          0         0.0\n",
       "CalculatedPremiumPerTerm               0         0.0\n",
       "ExcessSelected                         0         0.0\n",
       "CoverCategory                          0         0.0\n",
       "CoverType                              0         0.0\n",
       "CoverGroup                             0         0.0\n",
       "Section                                0         0.0\n",
       "Product                                0         0.0\n",
       "StatutoryClass                         0         0.0\n",
       "StatutoryRiskType                      0         0.0\n",
       "TotalPremium                           0         0.0\n",
       "TotalClaims                            0         0.0"
      ]
     },
     "execution_count": 8,
     "metadata": {},
     "output_type": "execute_result"
    }
   ],
   "source": [
    "missing_values_summary(df)"
   ]
  },
  {
   "cell_type": "code",
   "execution_count": 9,
   "metadata": {},
   "outputs": [
    {
     "name": "stdout",
     "output_type": "stream",
     "text": [
      "<class 'pandas.core.frame.DataFrame'>\n",
      "RangeIndex: 999546 entries, 0 to 999545\n",
      "Data columns (total 50 columns):\n",
      " #   Column                    Non-Null Count   Dtype  \n",
      "---  ------                    --------------   -----  \n",
      " 0   UnderwrittenCoverID       999546 non-null  int64  \n",
      " 1   PolicyID                  999546 non-null  int64  \n",
      " 2   TransactionMonth          999546 non-null  object \n",
      " 3   IsVATRegistered           999546 non-null  bool   \n",
      " 4   Citizenship               999546 non-null  object \n",
      " 5   LegalType                 999546 non-null  object \n",
      " 6   Title                     999546 non-null  object \n",
      " 7   Language                  999546 non-null  object \n",
      " 8   Bank                      999546 non-null  object \n",
      " 9   AccountType               999546 non-null  object \n",
      " 10  MaritalStatus             999546 non-null  object \n",
      " 11  Gender                    999546 non-null  object \n",
      " 12  Country                   999546 non-null  object \n",
      " 13  Province                  999546 non-null  object \n",
      " 14  PostalCode                999546 non-null  int64  \n",
      " 15  MainCrestaZone            999546 non-null  object \n",
      " 16  SubCrestaZone             999546 non-null  object \n",
      " 17  ItemType                  999546 non-null  object \n",
      " 18  mmcode                    999546 non-null  int64  \n",
      " 19  VehicleType               999546 non-null  object \n",
      " 20  RegistrationYear          999546 non-null  int64  \n",
      " 21  make                      999546 non-null  object \n",
      " 22  Model                     999546 non-null  object \n",
      " 23  Cylinders                 999546 non-null  int64  \n",
      " 24  cubiccapacity             999546 non-null  float64\n",
      " 25  kilowatts                 999546 non-null  float64\n",
      " 26  bodytype                  999546 non-null  object \n",
      " 27  NumberOfDoors             999546 non-null  int64  \n",
      " 28  VehicleIntroDate          999546 non-null  object \n",
      " 29  AlarmImmobiliser          999546 non-null  object \n",
      " 30  TrackingDevice            999546 non-null  object \n",
      " 31  CapitalOutstanding        999546 non-null  float64\n",
      " 32  NewVehicle                999546 non-null  bool   \n",
      " 33  WrittenOff                999546 non-null  bool   \n",
      " 34  Rebuilt                   999546 non-null  bool   \n",
      " 35  Converted                 999546 non-null  bool   \n",
      " 36  CrossBorder               999546 non-null  bool   \n",
      " 37  SumInsured                999546 non-null  float64\n",
      " 38  TermFrequency             999546 non-null  object \n",
      " 39  CalculatedPremiumPerTerm  999546 non-null  float64\n",
      " 40  ExcessSelected            999546 non-null  object \n",
      " 41  CoverCategory             999546 non-null  object \n",
      " 42  CoverType                 999546 non-null  object \n",
      " 43  CoverGroup                999546 non-null  object \n",
      " 44  Section                   999546 non-null  object \n",
      " 45  Product                   999546 non-null  object \n",
      " 46  StatutoryClass            999546 non-null  object \n",
      " 47  StatutoryRiskType         999546 non-null  object \n",
      " 48  TotalPremium              999546 non-null  float64\n",
      " 49  TotalClaims               999546 non-null  float64\n",
      "dtypes: bool(6), float64(7), int64(7), object(30)\n",
      "memory usage: 341.3+ MB\n"
     ]
    }
   ],
   "source": [
    "df.info()"
   ]
  },
  {
   "cell_type": "markdown",
   "metadata": {},
   "source": [
    "### Formulate Null Hypotheses\n",
    "1.\tThere are no risk differences across provinces \n",
    "2.\tThere are no risk differences between zip codes \n",
    "3.\tThere are no significant margin (profit) difference between zip codes \n",
    "4.\tThere are not significant risk difference between Women and Men\n"
   ]
  },
  {
   "cell_type": "markdown",
   "metadata": {},
   "source": [
    "### Select Metrics (KPIs)\n",
    "- For Risk Differences (Hypotheses 1, 2, 4): You can use the claims frequency or loss ratio as the KPI to measure risk.\n",
    "- For Profit Margin Differences (Hypothesis 3): Use profit margin as the KPI."
   ]
  },
  {
   "cell_type": "markdown",
   "metadata": {},
   "source": [
    "### Data Segmentation\n",
    "We need to split the data into Group A (Control) and Group B (Test) for each hypothesis.\n",
    "\n",
    "1. Hypothesis 1: Risk Differences Across Provinces\n",
    "- Group A: Choose one province (e.g., Gauteng).\n",
    "- Group B: Choose another province (e.g., Western Cape).\n",
    "2. Hypothesis 2: Risk Differences Between Zip Codes\n",
    "- Group A: Policies from one zip code (e.g., PostalCode == 2000).\n",
    "- Group B: Policies from another zip code (e.g., PostalCode == 3000).\n",
    "3. Hypothesis 3: Profit Margin Differences Between Zip Codes\n",
    "- Group A: Zip codes with lower profit margins.\n",
    "- Group B: Zip codes with higher profit margins.\n",
    "4. Hypothesis 4: Risk Differences Between Women and Men\n",
    "- Group A: Female policyholders.\n",
    "- Group B: Male policyholders."
   ]
  },
  {
   "cell_type": "code",
   "execution_count": 12,
   "metadata": {},
   "outputs": [],
   "source": [
    "# For Hypothesis 1 (Provinces)\n",
    "group_a = df[df['Province'] == 'Gauteng']\n",
    "group_b = df[df['Province'] == 'Western Cape']"
   ]
  },
  {
   "cell_type": "markdown",
   "metadata": {},
   "source": [
    "### Statistical Testing\n",
    "For each hypothesis, we will conduct statistical tests. Based on the data types:\n",
    "\n",
    "- t-test for numerical data (like risk or profit).\n",
    "- Chi-Squared Test for categorical data."
   ]
  },
  {
   "cell_type": "markdown",
   "metadata": {},
   "source": [
    "#### 1. Hypothesis 1: Risk Differences Across Provinces\n",
    "We can use the t-test to compare the mean of LossRatio between provinces."
   ]
  },
  {
   "cell_type": "code",
   "execution_count": 34,
   "metadata": {},
   "outputs": [
    {
     "name": "stderr",
     "output_type": "stream",
     "text": [
      "C:\\Users\\zelalem.wubet\\AppData\\Local\\Temp\\ipykernel_17744\\3220618978.py:7: FutureWarning: A value is trying to be set on a copy of a DataFrame or Series through chained assignment using an inplace method.\n",
      "The behavior will change in pandas 3.0. This inplace method will never work because the intermediate object on which we are setting values always behaves as a copy.\n",
      "\n",
      "For example, when doing 'df[col].method(value, inplace=True)', try using 'df.method({col: value}, inplace=True)' or df[col] = df[col].method(value) instead, to perform the operation inplace on the original object.\n",
      "\n",
      "\n",
      "  df['LossRatio'].replace([np.inf, -np.inf], np.nan, inplace=True)\n"
     ]
    },
    {
     "name": "stdout",
     "output_type": "stream",
     "text": [
      "T-statistic: 1.31443426226578, P-value: 0.18870134052691323\n"
     ]
    }
   ],
   "source": [
    "import numpy as np\n",
    "# Step 1: Calculate 'LossRatio' column\n",
    "df['LossRatio'] = df['TotalClaims'] / df['TotalPremium']\n",
    "\n",
    "# Step 2: Handle NaN or infinite values\n",
    "# Replace infinite values with NaN\n",
    "df['LossRatio'].replace([np.inf, -np.inf], np.nan, inplace=True)\n",
    "\n",
    "# Drop rows with NaN values in 'LossRatio'\n",
    "df_cleaned = df.dropna(subset=['LossRatio'])\n",
    "\n",
    "# Step 3: Group the cleaned data by province\n",
    "group_a = df_cleaned[df_cleaned['Province'] == 'Gauteng']  # Example: Gauteng\n",
    "group_b = df_cleaned[df_cleaned['Province'] == 'Northern Cape']  # Example: Western Cape\n",
    "\n",
    "# Step 4: Perform t-test on the cleaned data\n",
    "t_stat, p_value = stats.ttest_ind(group_a['LossRatio'], group_b['LossRatio'])\n",
    "\n",
    "# Step 5: Print the results\n",
    "print(f\"T-statistic: {t_stat}, P-value: {p_value}\")"
   ]
  },
  {
   "cell_type": "markdown",
   "metadata": {},
   "source": [
    "### Hypothesis 2: Risk Differences Between Zip Codes\n",
    "- Null Hypothesis 2: There are no risk differences between zip codes.\n",
    "- Test: We'll use the t-test to compare LossRatio across two different zip codes."
   ]
  },
  {
   "cell_type": "code",
   "execution_count": 43,
   "metadata": {},
   "outputs": [
    {
     "data": {
      "text/plain": [
       "PostalCode\n",
       "2000    90852\n",
       "122     27898\n",
       "299     16731\n",
       "7784    13563\n",
       "7405    10731\n",
       "8000     8751\n",
       "458      8392\n",
       "2196     7277\n",
       "470      7052\n",
       "4360     6555\n",
       "Name: LossRatio, dtype: int64"
      ]
     },
     "execution_count": 43,
     "metadata": {},
     "output_type": "execute_result"
    }
   ],
   "source": [
    "# Find zip codes with most entries\n",
    "df.groupby('PostalCode')['LossRatio'].count().sort_values(ascending=False).head(10)\n"
   ]
  },
  {
   "cell_type": "code",
   "execution_count": 45,
   "metadata": {},
   "outputs": [
    {
     "name": "stdout",
     "output_type": "stream",
     "text": [
      "Group A (PostalCode 2000) count after filtering: 90852\n",
      "Group B (PostalCode 299) count after filtering: 16731\n",
      "T-statistic (zip codes): 2.3012593882638934, P-value (zip codes): 0.021378875770699284\n"
     ]
    }
   ],
   "source": [
    "from scipy import stats\n",
    "\n",
    "# Assume you want to compare two specific zip codes\n",
    "group_zip_a = df[df['PostalCode'] == 2000]['LossRatio']\n",
    "group_zip_b = df[df['PostalCode'] == 299]['LossRatio']\n",
    "\n",
    "group_zip_a = group_zip_a.dropna()\n",
    "group_zip_b = group_zip_b.dropna()\n",
    "\n",
    "# Check the number of valid entries again\n",
    "print(f\"Group A (PostalCode 2000) count after filtering: {group_zip_a.shape[0]}\")\n",
    "print(f\"Group B (PostalCode 299) count after filtering: {group_zip_b.shape[0]}\")\n",
    "\n",
    "# Perform t-test\n",
    "t_stat_zip, p_value_zip = stats.ttest_ind(group_zip_a, group_zip_b, nan_policy='omit')\n",
    "\n",
    "# Print results\n",
    "print(f\"T-statistic (zip codes): {t_stat_zip}, P-value (zip codes): {p_value_zip}\")\n"
   ]
  },
  {
   "cell_type": "markdown",
   "metadata": {},
   "source": [
    "### Hypothesis 3: Margin (Profit) Differences Between Zip Codes\n",
    "- Null Hypothesis 3: There are no significant margin (profit) differences between zip codes.\n",
    "- Test: Use a t-test with a Margin or Profit metric. If you don't have a margin or profit column, calculate it (e.g., Profit = TotalPremium - TotalClaims)."
   ]
  },
  {
   "cell_type": "code",
   "execution_count": 46,
   "metadata": {},
   "outputs": [
    {
     "name": "stdout",
     "output_type": "stream",
     "text": [
      "T-statistic (profit margins): -2.1221643230589944, P-value (profit margins): 0.03382548489498472\n"
     ]
    }
   ],
   "source": [
    "# Calculate profit or margin if not already present\n",
    "df['ProfitMargin'] = df['TotalPremium'] - df['TotalClaims']\n",
    "\n",
    "# Select two zip codes to compare, e.g., 12345 and 54321\n",
    "profit_group_a = df[df['PostalCode'] == 2000]['ProfitMargin']\n",
    "profit_group_b = df[df['PostalCode'] == 299]['ProfitMargin']\n",
    "\n",
    "# Perform t-test\n",
    "t_stat_profit, p_value_profit = stats.ttest_ind(profit_group_a, profit_group_b, nan_policy='omit')\n",
    "\n",
    "# Print results\n",
    "print(f\"T-statistic (profit margins): {t_stat_profit}, P-value (profit margins): {p_value_profit}\")\n"
   ]
  },
  {
   "cell_type": "markdown",
   "metadata": {},
   "source": [
    "### Hypothesis 4: Risk Differences Between Women and Men\n",
    "- Null Hypothesis 4: There are no significant risk differences between women and men.\n",
    "- Test: Use a t-test to compare the LossRatio between the two gender groups."
   ]
  },
  {
   "cell_type": "code",
   "execution_count": 47,
   "metadata": {},
   "outputs": [
    {
     "name": "stdout",
     "output_type": "stream",
     "text": [
      "T-statistic (gender): -0.9117797544015281, P-value (gender): 0.3618943414070056\n"
     ]
    }
   ],
   "source": [
    "# Split data by gender\n",
    "group_men = df[df['Gender'] == 'Male']['LossRatio']\n",
    "group_women = df[df['Gender'] == 'Female']['LossRatio']\n",
    "\n",
    "# Perform t-test\n",
    "t_stat_gender, p_value_gender = stats.ttest_ind(group_men, group_women, nan_policy='omit')\n",
    "\n",
    "# Print results\n",
    "print(f\"T-statistic (gender): {t_stat_gender}, P-value (gender): {p_value_gender}\")\n"
   ]
  },
  {
   "cell_type": "markdown",
   "metadata": {},
   "source": [
    "#### Chi-Squared Test for Categorical Data"
   ]
  },
  {
   "cell_type": "code",
   "execution_count": 48,
   "metadata": {},
   "outputs": [
    {
     "name": "stdout",
     "output_type": "stream",
     "text": [
      "Chi-squared statistic: 6.7602110506096444, P-value: 0.03404386205612263\n"
     ]
    }
   ],
   "source": [
    "from scipy.stats import chi2_contingency\n",
    "\n",
    "# Create a contingency table for Gender and whether a claim was made (e.g., based on non-zero TotalClaims)\n",
    "df['ClaimMade'] = df['TotalClaims'] > 0\n",
    "contingency_table = pd.crosstab(df['Gender'], df['ClaimMade'])\n",
    "\n",
    "# Perform chi-squared test\n",
    "chi2_stat, p_val_chi, dof, ex = chi2_contingency(contingency_table)\n",
    "\n",
    "# Print results\n",
    "print(f\"Chi-squared statistic: {chi2_stat}, P-value: {p_val_chi}\")\n"
   ]
  },
  {
   "cell_type": "code",
   "execution_count": 16,
   "metadata": {},
   "outputs": [
    {
     "data": {
      "text/plain": [
       "Index(['UnderwrittenCoverID', 'PolicyID', 'TransactionMonth',\n",
       "       'IsVATRegistered', 'Citizenship', 'LegalType', 'Title', 'Language',\n",
       "       'Bank', 'AccountType', 'MaritalStatus', 'Gender', 'Country', 'Province',\n",
       "       'PostalCode', 'MainCrestaZone', 'SubCrestaZone', 'ItemType', 'mmcode',\n",
       "       'VehicleType', 'RegistrationYear', 'make', 'Model', 'Cylinders',\n",
       "       'cubiccapacity', 'kilowatts', 'bodytype', 'NumberOfDoors',\n",
       "       'VehicleIntroDate', 'AlarmImmobiliser', 'TrackingDevice',\n",
       "       'CapitalOutstanding', 'NewVehicle', 'WrittenOff', 'Rebuilt',\n",
       "       'Converted', 'CrossBorder', 'SumInsured', 'TermFrequency',\n",
       "       'CalculatedPremiumPerTerm', 'ExcessSelected', 'CoverCategory',\n",
       "       'CoverType', 'CoverGroup', 'Section', 'Product', 'StatutoryClass',\n",
       "       'StatutoryRiskType', 'TotalPremium', 'TotalClaims', 'LossRatio'],\n",
       "      dtype='object')"
      ]
     },
     "execution_count": 16,
     "metadata": {},
     "output_type": "execute_result"
    }
   ],
   "source": [
    "df.columns"
   ]
  }
 ],
 "metadata": {
  "kernelspec": {
   "display_name": "venv",
   "language": "python",
   "name": "python3"
  },
  "language_info": {
   "codemirror_mode": {
    "name": "ipython",
    "version": 3
   },
   "file_extension": ".py",
   "mimetype": "text/x-python",
   "name": "python",
   "nbconvert_exporter": "python",
   "pygments_lexer": "ipython3",
   "version": "3.12.3"
  }
 },
 "nbformat": 4,
 "nbformat_minor": 2
}
